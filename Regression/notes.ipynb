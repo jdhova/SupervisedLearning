{
 "cells": [
  {
   "cell_type": "code",
   "execution_count": 2,
   "metadata": {},
   "outputs": [],
   "source": [
    "#### I"
   ]
  },
  {
   "cell_type": "code",
   "execution_count": 3,
   "metadata": {},
   "outputs": [],
   "source": [
    "###### Types of classiicatons in ML\n",
    "\n",
    "#### 1. Supervised Learning  This comprises of two types of learning\n",
    "# a. Classification => this comprises of two types of classification\n",
    "# i. Binary Classification => This is a type of classification where the output is either 0 or 1 example (Fraud or not fraud)\n",
    "# ii. Multi-Class Classification => This is a type of classification where the output is more than one example (cat, dog, horse)\n",
    "\n",
    "### Exmaple of classification algorithms are Ramdom Forest, Decision Tree, KNN, SVM, Logistic Regression, Naive Bayes, Neural Network\n",
    "#\n",
    "# b. Lenier Regression => This is a type of classification where the output is continuous example (price of a house, Srick Market price)\n",
    "#### Example of regression algorithms are Linear Regression, Polynomial Regression, Ridge Regression, Lasso Regression, Elastic Net Regression\n",
    "#"
   ]
  },
  {
   "cell_type": "code",
   "execution_count": 4,
   "metadata": {},
   "outputs": [],
   "source": [
    "#### 2. Unsupervised Learning\n",
    "# a. Clustering => This is a type of classification where the output is not known example (customer segmentation) this can also be used in recommendation system or Outliar detection\n",
    "#### Example of clustering algorithms are K-Means, Hierarchical Clustering, DBSCAN, Mean Shift, Gaussian Mixture"
   ]
  },
  {
   "cell_type": "code",
   "execution_count": 5,
   "metadata": {},
   "outputs": [],
   "source": [
    "#### Supervised Learning is when we have a dataset that is labeled and we are trying to train our model to predict the output.\n",
    "# Model is trained on the dataset that has been labeled, classified or categorized. \n",
    "\n",
    "\n",
    "# Unsupervised Learning is when we have a dataset that is not labeled and we are trying to train our model to predict the output. \n",
    "# Model is trained on the dataset that has not been labeled, classified or categorized."
   ]
  },
  {
   "cell_type": "code",
   "execution_count": null,
   "metadata": {},
   "outputs": [],
   "source": []
  },
  {
   "cell_type": "code",
   "execution_count": 6,
   "metadata": {},
   "outputs": [],
   "source": [
    "###Lenier Regression help is us estimate the relationship between two variables. It is used to predict the value of a dependent variable based on the value of an independent variable.\n",
    "# The dependent variable is the variable we are trying to predict     often price of a house, stock market price, etc\n",
    "# and the independent variable is the variable we are using to make the prediction ofen square footage of a house, time, etc"
   ]
  },
  {
   "cell_type": "code",
   "execution_count": 7,
   "metadata": {},
   "outputs": [],
   "source": [
    "### Lenier Regression Line s the best fit line that predicts the value of the dependent variable based on the independent variable. The equation of the line is given by y = mx + c\n",
    "### model.coef_[0]* price + model.intercept_\n",
    "\n",
    "##y = is the dependent variable we are prdicting, often price of a house, stock market price, etc\n",
    "##m = is the slope of the line\n",
    "##x = is the independent variable we are using to make the prediction, often square footage of a house, time, etc\n",
    "##c = is the y-intercept of the line\n",
    "#  mx + c"
   ]
  },
  {
   "cell_type": "code",
   "execution_count": null,
   "metadata": {},
   "outputs": [],
   "source": []
  },
  {
   "cell_type": "code",
   "execution_count": null,
   "metadata": {},
   "outputs": [],
   "source": []
  },
  {
   "cell_type": "code",
   "execution_count": null,
   "metadata": {},
   "outputs": [],
   "source": [
    "#### Gradient Descent is an optimization algorithm used to minimize some function by iteratively moving in the direction of steepest descent as defined by the negative of the gradient. \n",
    "# In machine learning, we use gradient descent to update the parameters of our model. Parameters refer to coefficients in Linear Regression and weights in neural networks."
   ]
  },
  {
   "cell_type": "code",
   "execution_count": null,
   "metadata": {},
   "outputs": [],
   "source": [
    "### Cost Function is a function that measures the performance of a model for given data. \n",
    "# It quantifies the error between predicted values and expected values and presents it in the form of a single real number.\n",
    "## Mean Squared Error (MSE) is the average of the squared differences between the predicted and actual values. It is used as a cost function for regression problems.\n",
    "\n",
    "# MSE = 1/n * Σ(actual - predicted)^2\n",
    "# where n is the number of data points, actual is the actual target values, and predicted is the predicted target values.\n",
    "\n",
    "### R-Squared is a statistical measure that represents the proportion of the variance for a dependent variable that's explained by an independent variable or variables in a regression model.\n",
    "# R-squared = 1 - (SS_res / SS_tot)\n",
    "\n",
    "#MAE (Mean Absolute Error) is the average of the absolute differences between predictions and actual values. It gives you an idea of how wrong the predictions were.\n",
    "# MAE = 1/n * Σ|actual - predicted|"
   ]
  },
  {
   "cell_type": "code",
   "execution_count": null,
   "metadata": {},
   "outputs": [],
   "source": []
  },
  {
   "cell_type": "code",
   "execution_count": null,
   "metadata": {},
   "outputs": [],
   "source": [
    "# Finding the best fit line is the process of finding the line that best represents the data points in a scatter plot.\n",
    "# The best fit line is the line that minimizes the distance between the data points and the line itself. and this is done by using the cost function which works with Gradient Descent.\n",
    "# The best fit line is the line that minimizes the cost function."
   ]
  },
  {
   "cell_type": "code",
   "execution_count": null,
   "metadata": {},
   "outputs": [],
   "source": [
    "# for linear regression we use the following cost function (Regression of continuous values like price of a house, stock market price, etc) predicted values are continuous\n",
    "# Cost Function MSE = 1/n * Σ(actual - predicted)^2 and \n",
    "\n",
    "# for logistic regression we use the following cost function (Classification of Yes or No)\n",
    "# Cost Function MAE = -1/n * Σ(actual * log(predicted) + (1 - actual) * log(1 - predicted))"
   ]
  },
  {
   "cell_type": "code",
   "execution_count": null,
   "metadata": {},
   "outputs": [],
   "source": [
    "### Partial Derivative is the derivative of a function with respect to one variable while keeping the other variables constant.\n",
    "# It is used to find the slope of the function at a given point. In machine learning, we use partial derivatives to update the parameters of our model."
   ]
  },
  {
   "cell_type": "code",
   "execution_count": null,
   "metadata": {},
   "outputs": [],
   "source": []
  },
  {
   "cell_type": "code",
   "execution_count": null,
   "metadata": {},
   "outputs": [],
   "source": []
  },
  {
   "cell_type": "code",
   "execution_count": null,
   "metadata": {},
   "outputs": [],
   "source": []
  }
 ],
 "metadata": {
  "kernelspec": {
   "display_name": "Python 3",
   "language": "python",
   "name": "python3"
  },
  "language_info": {
   "codemirror_mode": {
    "name": "ipython",
    "version": 3
   },
   "file_extension": ".py",
   "mimetype": "text/x-python",
   "name": "python",
   "nbconvert_exporter": "python",
   "pygments_lexer": "ipython3",
   "version": "3.13.2"
  }
 },
 "nbformat": 4,
 "nbformat_minor": 2
}
