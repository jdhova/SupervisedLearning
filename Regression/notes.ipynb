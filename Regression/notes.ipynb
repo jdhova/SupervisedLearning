{
 "cells": [
  {
   "cell_type": "code",
   "execution_count": null,
   "metadata": {},
   "outputs": [],
   "source": [
    "#### I"
   ]
  },
  {
   "cell_type": "code",
   "execution_count": null,
   "metadata": {},
   "outputs": [],
   "source": [
    "###### Types of classiicatons in ML\n",
    "\n",
    "#### 1. Supervised Learning  This comprises of two types of learning\n",
    "# a. Classification => this comprises of two types of classification\n",
    "# i. Binary Classification => This is a type of classification where the output is either 0 or 1 example (Fraud or not fraud)\n",
    "# ii. Multi-Class Classification => This is a type of classification where the output is more than one example (cat, dog, horse)\n",
    "\n",
    "### Exmaple of classification algorithms are Ramdom Forest, Decision Tree, KNN, SVM, Logistic Regression, Naive Bayes, Neural Network\n",
    "#\n",
    "# b. Lenier Regression => This is a type of classification where the output is continuous example (price of a house, Srick Market price)\n",
    "#### Example of regression algorithms are Linear Regression, Polynomial Regression, Ridge Regression, Lasso Regression, Elastic Net Regression\n",
    "#"
   ]
  },
  {
   "cell_type": "code",
   "execution_count": null,
   "metadata": {},
   "outputs": [],
   "source": [
    "#### 2. Unsupervised Learning\n",
    "# a. Clustering => This is a type of classification where the output is not known example (customer segmentation) this can also be used in recommendation system or Outliar detection\n",
    "#### Example of clustering algorithms are K-Means, Hierarchical Clustering, DBSCAN, Mean Shift, Gaussian Mixture"
   ]
  },
  {
   "cell_type": "code",
   "execution_count": null,
   "metadata": {},
   "outputs": [],
   "source": [
    "#### Supervised Learning is when we have a dataset that is labeled and we are trying to train our model to predict the output.\n",
    "# Model is trained on the dataset that has been labeled, classified or categorized. \n",
    "\n",
    "\n",
    "# Unsupervised Learning is when we have a dataset that is not labeled and we are trying to train our model to predict the output. \n",
    "# Model is trained on the dataset that has not been labeled, classified or categorized."
   ]
  },
  {
   "cell_type": "code",
   "execution_count": null,
   "metadata": {},
   "outputs": [],
   "source": []
  },
  {
   "cell_type": "code",
   "execution_count": null,
   "metadata": {},
   "outputs": [],
   "source": [
    "###Lenier Regression help is us estimate the relationship between two variables. It is used to predict the value of a dependent variable based on the value of an independent variable.\n",
    "# The dependent variable is the variable we are trying to predict     often price of a house, stock market price, etc\n",
    "# and the independent variable is the variable we are using to make the prediction ofen square footage of a house, time, etc"
   ]
  },
  {
   "cell_type": "code",
   "execution_count": 1,
   "metadata": {},
   "outputs": [],
   "source": [
    "### Lenier Regression Line s the best fit line that predicts the value of the dependent variable based on the independent variable. The equation of the line is given by y = mx + c\n",
    "### model.coef_[0]* price + model.intercept_\n",
    "\n",
    "##y = is the dependent variable we are prdicting, often price of a house, stock market price, etc\n",
    "##m = is the slope of the line\n",
    "##x = is the independent variable we are using to make the prediction, often square footage of a house, time, etc\n",
    "##c = is the y-intercept of the line\n",
    "#  mx + c"
   ]
  },
  {
   "cell_type": "code",
   "execution_count": null,
   "metadata": {},
   "outputs": [],
   "source": []
  },
  {
   "cell_type": "code",
   "execution_count": null,
   "metadata": {},
   "outputs": [],
   "source": []
  },
  {
   "cell_type": "code",
   "execution_count": null,
   "metadata": {},
   "outputs": [],
   "source": []
  }
 ],
 "metadata": {
  "kernelspec": {
   "display_name": "Python 3",
   "language": "python",
   "name": "python3"
  },
  "language_info": {
   "codemirror_mode": {
    "name": "ipython",
    "version": 3
   },
   "file_extension": ".py",
   "mimetype": "text/x-python",
   "name": "python",
   "nbconvert_exporter": "python",
   "pygments_lexer": "ipython3",
   "version": "3.13.2"
  }
 },
 "nbformat": 4,
 "nbformat_minor": 2
}
